{
  "nbformat": 4,
  "nbformat_minor": 0,
  "metadata": {
    "colab": {
      "name": "Assignment1.ipynb",
      "provenance": []
    },
    "kernelspec": {
      "name": "python3",
      "display_name": "Python 3"
    },
    "language_info": {
      "name": "python"
    }
  },
  "cells": [
    {
      "cell_type": "code",
      "metadata": {
        "colab": {
          "base_uri": "https://localhost:8080/"
        },
        "id": "venzwlQeAUw1",
        "outputId": "99d7c836-02a2-40c9-f261-c66fdb2a08b5"
      },
      "source": [
        "def quadrilateral_area(A,B,C,D):\n",
        "    x1,y1=A[0] ,A[1]\n",
        "    x2,y2=B[0] ,B[1]\n",
        "    x3,y3=C[0] ,C[1]\n",
        "    x4,y4=D[0] ,D[1]\n",
        "    Area=((x1*y2 + x2*y3 + x3*y4 + x4*y1)-(y1*x2 + y2*x3 + y3*x4 + y4*x1))\n",
        "    Area=abs(Area*0.5)\n",
        "    return(Area)\n",
        "\n",
        "A,B,C,D=[2,1],[3,5],[-3,4],[-2,-2]\n",
        "print(\"Given Four points are:\")\n",
        "print(A)\n",
        "print(B)\n",
        "print(C)\n",
        "print(D)\n",
        "print(\"Area of Quadrilateral when four points are given is:\")\n",
        "print(quadrilateral_area(A,B,C,D))"
      ],
      "execution_count": null,
      "outputs": [
        {
          "output_type": "stream",
          "text": [
            "Given Four points are:\n",
            "[2, 1]\n",
            "[3, 5]\n",
            "[-3, 4]\n",
            "[-2, -2]\n",
            "Area of Quadrilateral when four points are given is:\n",
            "Area of Quadrilateral when four points are given is:\n",
            "25.0\n"
          ],
          "name": "stdout"
        }
      ]
    },
    {
      "cell_type": "markdown",
      "metadata": {
        "id": "7DnBGYBdGAjY"
      },
      "source": [
        "# New Section"
      ]
    }
  ]
}